{
  "nbformat": 4,
  "nbformat_minor": 0,
  "metadata": {
    "colab": {
      "provenance": [],
      "authorship_tag": "ABX9TyPOHAQebTOMFAiQ8+lXHr+L",
      "include_colab_link": true
    },
    "kernelspec": {
      "name": "python3",
      "display_name": "Python 3"
    },
    "language_info": {
      "name": "python"
    }
  },
  "cells": [
    {
      "cell_type": "markdown",
      "metadata": {
        "id": "view-in-github",
        "colab_type": "text"
      },
      "source": [
        "<a href=\"https://colab.research.google.com/github/IntroComputationalPhysics-UNT/period-and-revolution-time-rigid-pendulum-ChaseAdamson/blob/main/extract_period_int_ode.ipynb\" target=\"_parent\"><img src=\"https://colab.research.google.com/assets/colab-badge.svg\" alt=\"Open In Colab\"/></a>"
      ]
    },
    {
      "cell_type": "code",
      "execution_count": 1,
      "metadata": {
        "id": "JthRC97Ya5FU"
      },
      "outputs": [],
      "source": [
        "# import modules\n",
        "import numpy as np\n",
        "import matplotlib.pyplot as plt\n",
        "from scipy.integrate import solve_ivp, quad"
      ]
    },
    {
      "cell_type": "markdown",
      "source": [
        "Define ODE function as well as integrand functions. The ODE function will numerically solve the rigid pendulum and the integrand functions will be used later in order to find the period in the oscillatory domain and the revolving domain."
      ],
      "metadata": {
        "id": "vkjoKG4_g8rY"
      }
    },
    {
      "cell_type": "code",
      "source": [
        "# rigid pendulum ODE and integrand\n",
        "\n",
        "# rigid pendulum ODE\n",
        "def rigid_pendulum_ode(t, y, omega_0=1):\n",
        "  theta, ang_vel = y # unpacking state variable\n",
        "  dtheta_dt = ang_vel # defining first derivative\n",
        "  d2theta_dt2 = -omega_0**2*np.sin(theta) # defining second derivative\n",
        "  dy_dt = [dtheta_dt, d2theta_dt2] # defining derivative of state variable\n",
        "  return dy_dt\n",
        "\n",
        "# define the integrand for the oscillation period\n",
        "def oscillation_integrand(theta, ang_vel_0, omega_0=1): # 2w_0 = threshold ang_vel\n",
        "    coeff = 4 # leading coefficient of the integrand\n",
        "    denominator = np.sqrt(ang_vel_0**2-2*omega_0**2*(1-np.cos(theta))) # denominator of integrand\n",
        "    return coeff/denominator\n",
        "\n",
        "# define integrand for revolution period\n",
        "def revolution_integrand(theta, ang_vel_0, omega_0=1):\n",
        "  coeff = 2\n",
        "  denominator = np.sqrt(ang_vel_0**2-2*omega_0**2*(1-np.cos(theta)))\n",
        "  return coeff/denominator"
      ],
      "metadata": {
        "id": "k2oh2-DCjgay"
      },
      "execution_count": 2,
      "outputs": []
    },
    {
      "cell_type": "markdown",
      "source": [
        "Create Utilities. The plotting utility will be used to plot the periods against the intial angular velocities. The event functions will detect events marking periods for the two domains. For the oscillation domain, the event is when the angular velocity goes from negative to positive. For the revolving domain, the event is when the angle is equal to pi + 2n*pi for an arbitrary integer n. The extract period functions extract the periods by two different methods, integration and solve_ivp events. The integration function uses the appropriate integrand based on the domain, and the ode function uses the appropriate events based on the domain."
      ],
      "metadata": {
        "id": "P-yYjXd_XurL"
      }
    },
    {
      "cell_type": "code",
      "source": [
        "# utilities\n",
        "\n",
        "# plotting\n",
        "def basic_plot(x, y, xlabel=None, ylabel=None, figsize=(3,3)):\n",
        "  plt.figure(figsize=figsize)\n",
        "  plt.plot(x, y)\n",
        "  plt.xlabel(xlabel)\n",
        "  plt.ylabel(ylabel)\n",
        "  return plt.show()\n",
        "\n",
        "# define the event function for oscillatory motion: ang_vel = 0\n",
        "def ang_vel_zero_event(t, y, omega_0=1):\n",
        "  \"\"\"\n",
        "  Parameters:\n",
        "  t: time in seconds\n",
        "  y: state of pendulum (theta, angular velocity)\n",
        "  omega_0: natural frequency of pendulum = 1\n",
        "\n",
        "  This function returns the angular velocity of the pendulum.\n",
        "  \"\"\"\n",
        "  theta, ang_vel = y # unpack state variable\n",
        "  return ang_vel # set to find values where ang_vel = 0\n",
        "\n",
        "# add required attributes to the event function\n",
        "ang_vel_zero_event.terminal = False # continue integrating after events are detected\n",
        "ang_vel_zero_event.direction = -1 # zeros are from + to -\n",
        "\n",
        "# Define event function for revolving motion: theta=0\n",
        "def theta_zero_event(t, y, omega_0=1):\n",
        "  \"\"\"\n",
        "  Parameters:\n",
        "  t: time in seconds\n",
        "  y: state of the pendulum (theta, angular velocity)\n",
        "  omega_0: natural frequency of pendulum = 1\n",
        "\n",
        "  This function returns the angle of the pendulum bound between -pi and pi.\n",
        "  \"\"\"\n",
        "  theta, ang_vel = y #unpack state variable\n",
        "  return np.mod(theta, 2*np.pi)-np.pi # set to find values where theta - pi = 0\n",
        "theta_zero_event.terminal = False # keep integrating after event(s) are found\n",
        "theta_zero_event.direction = 1 # track zeros when going from negative to positive\n",
        "\n",
        "\n",
        "# extract period on mesh of ang_vel_0 values\n",
        "def extract_period_int(n_points, eps=1e-3, omega_0=1):\n",
        "  \"\"\"\n",
        "  Parameters:\n",
        "  n_points: The number of inital angular velocity values for which integration will be done to determine the period\n",
        "  eps: The distance between 0 and the first point which must exist to avoid a divergent period\n",
        "  omega_0: The natural frequency of the pendulum = 1\n",
        "\n",
        "  This function creates a list of initial angular velocities and based on whether these angular velocities\n",
        "  surpass the threshold between oscillatory and revolving motion, the function integrates the appropriate integrand with the given\n",
        "  initial angular velocity while avoiding ang_vel_0 values too close to the threshold which result in a divergent period.\n",
        "  This function mirrors the list of periods because the symmetry of the system makes this possible.\n",
        "  This function then returns the list of initial angular velocities and the corresponding list of periods.\n",
        "  \"\"\"\n",
        "\n",
        "  # extract period with integral on a list of initial angular velocities\n",
        "  ang_vel_0_list = np.linspace(eps, np.pi-eps, n_points)\n",
        "\n",
        "  threshold_ang_vel=2*omega_0 # separates oscillation from revolution\n",
        "  period_list_int = [] # initialize list of periods\n",
        "  for ang_vel_0 in ang_vel_0_list:\n",
        "    if ang_vel_0 < threshold_ang_vel-eps: # if the motion is oscillatory\n",
        "      theta_max=np.arccos(1-(1/2)*(ang_vel_0/omega_0)**2) # maximum angle given initial angular velocity\n",
        "      period, err = quad(oscillation_integrand, 0, theta_max, args=(ang_vel_0, omega_0))\n",
        "    elif threshold_ang_vel - eps <= ang_vel_0 <= threshold_ang_vel + eps:\n",
        "      period = np.nan\n",
        "    else: # if motion is revolving\n",
        "      period, err = quad(revolution_integrand, 0, np.pi, args=(ang_vel_0, omega_0))\n",
        "    period_list_int.append(period)\n",
        "\n",
        "  period_list_int = np.array(period_list_int) # convert to a numpy array\n",
        "\n",
        "  period_list_int = np.concatenate([period_list_int[::-1], period_list_int]) # enforcing symmetry to mirror data about 0\n",
        "  ang_vel_0_list = np.concatenate([-ang_vel_0_list[::-1], ang_vel_0_list]) # enforcing symmetry to mirror data about 0\n",
        "  return ang_vel_0_list, period_list_int\n",
        "\n",
        "\n",
        "# extract period with solve_ivp events\n",
        "def extract_period_ode(n_points, eps=1e-3, omega_0=1):\n",
        "  \"\"\"\n",
        "  Parameters:\n",
        "  n_points: The number of inital angular velocity values for which integration will be done to determine the period\n",
        "  eps: The distance between 0 and the first point which must exist to avoid a divergent period\n",
        "  omega_0: The natural frequency of the pendulum = 1\n",
        "\n",
        "  This function creates a list of initial angular velocities and based on whether these angular velocities\n",
        "  surpass the threshold between oscillatory and revolving motion, the function detects the events marking the period's completion\n",
        "  by solving the ode numerically. This function solves the ode from t=0 to t=100 and averages the values of the\n",
        "  periods to find a mean period while avoiding the divergent period at ang_vel_0 = 2*omega_0.\n",
        "  This function mirrors the list of periods because the symmetry of the system makes this possible.\n",
        "  This function then returns the list of initial angular velocities and the corresponding list of periods.\n",
        "  \"\"\"\n",
        "  ang_vel_0_list = np.linspace(eps, np.pi-eps, n_points) # list of initial angular velocity values\n",
        "\n",
        "  # range of times for integration\n",
        "  t_min = 0\n",
        "  t_max = 100\n",
        "  t_span = [t_min, t_max] # time span for solve_ivp\n",
        "\n",
        "  threshold_ang_vel=2*omega_0 # separates oscillation from revolution\n",
        "  period_list_ode = [] # initializes list of periods\n",
        "  for ang_vel_0 in ang_vel_0_list:\n",
        "    # define state variable for run\n",
        "    y_0 = [0, ang_vel_0] # initial condition\n",
        "    if ang_vel_0 < threshold_ang_vel - eps: # if motion is oscillatory\n",
        "      # solve differential equation\n",
        "      sol = solve_ivp(rigid_pendulum_ode, t_span, y_0, args=(omega_0,),\n",
        "                      max_step = 0.01,\n",
        "                      dense_output=False,\n",
        "                      events=ang_vel_zero_event # events are inflection points\n",
        "                      )\n",
        "      period = (np.mean(np.diff(sol.t_events[0])) if (len(sol.t_events) > 0 and len(sol.t_events[0]) >= 2) else np.nan)\n",
        "\n",
        "    elif threshold_ang_vel - eps <= ang_vel_0 <= threshold_ang_vel + eps:\n",
        "      period = np.nan # period diverges near threshold ang_vel_0\n",
        "\n",
        "    else: # if motion is revolving\n",
        "      # solve differential equation\n",
        "      sol = solve_ivp(rigid_pendulum_ode, t_span, y_0, args=(omega_0,),\n",
        "                      max_step = 0.01,\n",
        "                      dense_output=False,\n",
        "                      events=theta_zero_event # events are revolutions\n",
        "                      )\n",
        "      period = (np.mean(np.diff(sol.t_events[0])) if (len(sol.t_events) > 0 and len(sol.t_events[0]) >= 2) else np.nan)\n",
        "    # output extracted period\n",
        "    period_list_ode.append(period) # append the period\n",
        "\n",
        "  period_list_ode = np.array(period_list_ode) # make into a numpy array\n",
        "\n",
        "  period_list_ode = np.concatenate([period_list_ode[::-1], period_list_ode]) # enforces symmetry to mirror data around 0\n",
        "  ang_vel_0_list = np.concatenate([-ang_vel_0_list[::-1], ang_vel_0_list]) # enforces symmetry to mirror data around 0\n",
        "  return ang_vel_0_list, period_list_ode"
      ],
      "metadata": {
        "id": "juVwQCMAXw6O"
      },
      "execution_count": 3,
      "outputs": []
    },
    {
      "cell_type": "markdown",
      "source": [
        "Call both methods of extracting the period."
      ],
      "metadata": {
        "id": "xDvajr-RYAYi"
      }
    },
    {
      "cell_type": "code",
      "source": [
        "# extract period with the integral approach\n",
        "n_points_int = 100 # number of initial angular velocities\n",
        "ang_vel_0_list_int, period_list_int = extract_period_int(n_points_int) # extract period on mesh of ang_vel_0\n",
        "\n",
        "# extract the period with the solve_ivp approach\n",
        "n_points_ode = 20 # number of initial angular velocities\n",
        "ang_vel_0_list_ode, period_list_ode = extract_period_ode(n_points_ode) # extract period on mesh of ang_vel_0"
      ],
      "metadata": {
        "id": "sdGFIVj6YDQW",
        "colab": {
          "base_uri": "https://localhost:8080/"
        },
        "outputId": "91163eeb-ed82-4e6f-a672-cffe9d9882ce"
      },
      "execution_count": 4,
      "outputs": [
        {
          "output_type": "stream",
          "name": "stderr",
          "text": [
            "/tmp/ipython-input-639680799.py:67: IntegrationWarning: The algorithm does not converge.  Roundoff error is detected\n",
            "  in the extrapolation table.  It is assumed that the requested tolerance\n",
            "  cannot be achieved, and that the returned result (if full_output = 1) is \n",
            "  the best which can be obtained.\n",
            "  period, err = quad(oscillation_integrand, 0, theta_max, args=(ang_vel_0, omega_0))\n"
          ]
        }
      ]
    },
    {
      "cell_type": "markdown",
      "source": [
        "Plot the periods against initial angular velocity. Plot the two methods of extracting the periods against each other on both the oscillation domain and the revolution domain. If they overlap, this is good evidence the solution is working properly."
      ],
      "metadata": {
        "id": "LOgkyP3mkok7"
      }
    },
    {
      "cell_type": "code",
      "source": [
        "# plot them together\n",
        "plt.figure(figsize=(5,3))\n",
        "plt.plot(ang_vel_0_list_int, period_list_int, label='integral')\n",
        "plt.plot(ang_vel_0_list_ode, period_list_ode, '.', label='solve_ivp')\n",
        "plt.xlabel('ang_vel_0')\n",
        "plt.ylabel('$T$')\n",
        "plt.xlim(-np.pi-0.2, np.pi+0.2)\n",
        "plt.ylim(0, 40)\n",
        "plt.legend()\n",
        "plt.show()"
      ],
      "metadata": {
        "colab": {
          "base_uri": "https://localhost:8080/",
          "height": 316
        },
        "id": "iF5Hp64tYMYV",
        "outputId": "48825f7b-6c47-4fd9-8a8f-929ba509363a"
      },
      "execution_count": 5,
      "outputs": [
        {
          "output_type": "display_data",
          "data": {
            "text/plain": [
              "<Figure size 500x300 with 1 Axes>"
            ],
            "image/png": "[encoded data removed]"
          },
          "metadata": {}
        }
      ]
    }
  ]
}